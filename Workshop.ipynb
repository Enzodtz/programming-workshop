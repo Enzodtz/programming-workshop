{
 "cells": [
  {
   "cell_type": "markdown",
   "id": "026c40c6",
   "metadata": {},
   "source": [
    "# Introdução\n",
    "\n",
    "Para começar a aula, precisamos entender primeiramente o conceito de *Programar*. Talvez essa palavra possa assustar, lembrando filmes com Hackers ou Números voando pela tela. Mas, na verdade, programar é o simples ato de comunicar ideias ao computador. Vamos fazer uma analogia: Ao conversar com outra pessoa, estamos descrevendo para ela nossas ideias, e para isso, utilizamos uma linguagem, no nosso caso, o português. Na programação, a outra pessoa é o computador, e nossas ideias são instruções. Perceba também que a linguagem para se comunicar com outra pessoa é apenas um instrumento. Nós poderíamos utilizar o inglês ou espanhol, e, conhecendo a linguagem, conseguiríamos se comunicar da mesma forma. Para programar, também podemos utilizar várias linguagens para alcançar o mesmo objetivo.\n",
    "\n",
    "Porém, as ideias que transmitiremos ao computador não são iguais às que falamos com nossos amigos. Não podemos pedir a um computador para fazer uma atividade complexa como assar um bolo, é necessário quebrar a tarefa em instruções mais simples:\n",
    "\n",
    "- Adicionar o leite\n",
    "- Adicionar a farinha\n",
    "- Levar ao forno\n",
    "- ...\n",
    "\n",
    "O objetivo desta aula é desenvolver o chamado *Pensamento de Programador* e a *Lógica de Programação*, e assim entender como formular as ideias que passaremos ao computador através das linguagens de programação.\n",
    "\n",
    "Nosso foco inicialmente é apenas no raciocínio, portanto, utilizaremos o Python, uma linguagem que facilita o entendimento e o aprendizado da escrita, pois seus comandos imitam a escrita da língua inglesa."
   ]
  },
  {
   "cell_type": "markdown",
   "id": "12a902c1",
   "metadata": {},
   "source": [
    "# Instalação\n",
    "\n",
    "Para utilizarmos o Python, é necessário fazer sua instalação primeiro, para isso, siga os passos a seguir:\n",
    "\n",
    "  - Faça o download através [deste link](https://www.python.org/ftp/python/3.10.2/python-3.10.2-amd64.exe) (Windows)\n",
    "  - Siga normalmente o processo de instalação\n",
    "  - Abra o Python apertando a tecla Windows e procurando por Python\n",
    "\n",
    "Nota: ao abrir o Python, seu ambiente de desenvolvimento será diferente visualmente do que estou utilizando, porém o funcionamento é idêntico."
   ]
  },
  {
   "cell_type": "markdown",
   "id": "2ec94cbd",
   "metadata": {},
   "source": [
    "# Funções\n",
    "\n",
    "Vamos entender o primeiro conceito em uma programação: *Funções*. Como dito anteriormente, a programação descreve instruções para o computador, e para isso, utilizamos as funções.\n",
    "\n",
    "Sua escrita é simples:\n",
    "\n",
    "Primeiro, escrevemos o nome da função que queremos que o computador execute, geralmente este nome é ligado ao que a função faz, por exemplo: `adicionar_leite`.\n",
    "\n",
    "Porém, o código acima não adicionaria o leite ainda, pois não executamos a função, para isso, adionamos o símbolo que a executa, representado por `()`: `adicionar_leite()`\n",
    "\n",
    "Algumas funções vão exigir obrigatóriamente informações adicionais, chamadas de *Argumentos*, como por exemplo a quantidade de leite a ser adicionada. Para informar os argumentos para uma função, os colocamos dentro dos parênteses: `adicionar_leite(500)`.\n",
    "\n",
    "Além disso, podemos adicionar mais de um argumento, para isto, os separamos por vírgulas: `adicionar_leite(500, 200)`. A quantidade de parâmetros dependerá da função que estivermos chamando. \n",
    "\n",
    "Uma função pode aceitar também argumentos *nomeados*, estes, ao contrário dos vistos anteriormente, não são obrigatórios, pois possuem um valor padrão caso não sejam informados. Para informálos, colocamos o nome do argumento, seguido do símbolo `=` e seu valor. A função que mostrarei agora não exige nenhuma informação obrigatória, mas pode receber o número de caixas de leite que serão adicionadas. Por padrão, este valor é de apenas uma caixa:\n",
    "\n",
    "- `adicionar_leite(numero_caixas=2)`, serão adicionadas duas caixas.\n",
    "- `adicionar_leite()`, serão adicionadas o número padrão de caixas, neste caso, uma caixa.\n",
    "\n",
    "Agora é hora de partir para o verdadeiro código. Em Python, não existe, por padrão, uma função para adicionarmos leite, portanto, utilizaremos uma função chamada de `print`. Como dito anteriormente, Python é uma linguagem em que suas funções tentam aproximar a escrita do inglês. A função `print`, traduzida do inglês, significa *imprimir*. Ao imprimir algo, podemos ver seu conteúdo, e este é o objetivo desta função. Mostrar o conteúdo daquilo que lhe foi passado como argumento.\n",
    "\n",
    "Nosso objetivo é fazer com que o computador nos mostre a frase: *Olá, mundo!*. Antes de executarmos a função, é necessário somente entender mais um conceito: para utiizar frases ou palavras como argumentos, precisamos colocá-las entre aspas. Entenderemos a razão disso posteriormente.\n",
    "\n",
    "Vamos lá:"
   ]
  },
  {
   "cell_type": "code",
   "execution_count": null,
   "id": "b1696920",
   "metadata": {},
   "outputs": [],
   "source": [
    "print('Olá, mundo!')"
   ]
  },
  {
   "cell_type": "markdown",
   "id": "1498b8f8",
   "metadata": {},
   "source": [
    "Execute o comando na janela do Python aberta em seu computador e veja o resultado."
   ]
  }
 ],
 "metadata": {
  "language_info": {
   "name": "python"
  }
 },
 "nbformat": 4,
 "nbformat_minor": 5
}
